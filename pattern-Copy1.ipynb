{
 "cells": [
  {
   "cell_type": "code",
   "execution_count": 3,
   "id": "e0bd6d73-7be7-4b4b-9d27-a5b592a21338",
   "metadata": {},
   "outputs": [
    {
     "name": "stdout",
     "output_type": "stream",
     "text": [
      "**********\n",
      "**********\n",
      "**********\n",
      "**********\n",
      "**********\n",
      "**********\n",
      "**********\n",
      "**********\n",
      "**********\n",
      "**********\n"
     ]
    }
   ],
   "source": [
    "for i in range(0,10):\n",
    "    print(\"*\"*10)"
   ]
  },
  {
   "cell_type": "code",
   "execution_count": 24,
   "id": "6715006b-898e-49be-8d34-bcdf1d57d43d",
   "metadata": {},
   "outputs": [
    {
     "name": "stdout",
     "output_type": "stream",
     "text": [
      "111111111\n",
      "222222222\n",
      "333333333\n",
      "444444444\n",
      "555555555\n",
      "666666666\n",
      "777777777\n",
      "888888888\n",
      "999999999\n"
     ]
    }
   ],
   "source": [
    "for i in range(1,10):\n",
    "    for j in range(1,10):\n",
    "        print(i,end=\"\")\n",
    "    print()\n",
    "        \n",
    "   "
   ]
  },
  {
   "cell_type": "code",
   "execution_count": 26,
   "id": "9655f20e-8ce1-490c-ae3d-efac43b630c1",
   "metadata": {},
   "outputs": [
    {
     "name": "stdout",
     "output_type": "stream",
     "text": [
      "123456789\n",
      "123456789\n",
      "123456789\n",
      "123456789\n",
      "123456789\n",
      "123456789\n",
      "123456789\n",
      "123456789\n",
      "123456789\n"
     ]
    }
   ],
   "source": [
    "for i in range(1,10):\n",
    "    for j in range(1,10):\n",
    "        print(j,end=\"\")\n",
    "    print()\n",
    "        "
   ]
  },
  {
   "cell_type": "code",
   "execution_count": 28,
   "id": "11d325ae-b949-4651-afdc-463b48f0a4e3",
   "metadata": {},
   "outputs": [
    {
     "name": "stdout",
     "output_type": "stream",
     "text": [
      "AAAAAAAAA\n",
      "BBBBBBBBB\n",
      "CCCCCCCCC\n",
      "DDDDDDDDD\n",
      "EEEEEEEEE\n",
      "FFFFFFFFF\n",
      "GGGGGGGGG\n",
      "HHHHHHHHH\n",
      "IIIIIIIII\n"
     ]
    }
   ],
   "source": [
    "for i in range(1,10):\n",
    "    for j in range(1,10):\n",
    "        print(chr(64+i),end=\"\")\n",
    "    print()\n",
    "        "
   ]
  },
  {
   "cell_type": "code",
   "execution_count": 32,
   "id": "e6289111-999d-4af8-8cf1-712b20d8a18d",
   "metadata": {},
   "outputs": [
    {
     "name": "stdout",
     "output_type": "stream",
     "text": [
      "ABCDEFGHI\n",
      "ABCDEFGHI\n",
      "ABCDEFGHI\n",
      "ABCDEFGHI\n",
      "ABCDEFGHI\n",
      "ABCDEFGHI\n",
      "ABCDEFGHI\n",
      "ABCDEFGHI\n",
      "ABCDEFGHI\n"
     ]
    }
   ],
   "source": [
    "for i in range(1,10):\n",
    "    for j in range(1,10):\n",
    "        print(chr(64+j),end=\"\")\n",
    "    print()\n",
    "        "
   ]
  },
  {
   "cell_type": "code",
   "execution_count": 68,
   "id": "40e16df7-bcfd-4f05-9077-d4bb7d9e723d",
   "metadata": {},
   "outputs": [
    {
     "name": "stdout",
     "output_type": "stream",
     "text": [
      "10101010101010101010\n",
      "9999999999\n",
      "8888888888\n",
      "7777777777\n",
      "6666666666\n",
      "5555555555\n",
      "4444444444\n",
      "3333333333\n",
      "2222222222\n",
      "1111111111\n"
     ]
    }
   ],
   "source": [
    "for i in range(1,11):\n",
    "    for j in range(1,11):\n",
    "        print(11-i,end=\"\")\n",
    "    print()"
   ]
  },
  {
   "cell_type": "code",
   "execution_count": 70,
   "id": "b3da9842-aae2-4bfb-9acd-8989f92281c6",
   "metadata": {},
   "outputs": [
    {
     "name": "stdout",
     "output_type": "stream",
     "text": [
      "10987654321\n",
      "10987654321\n",
      "10987654321\n",
      "10987654321\n",
      "10987654321\n",
      "10987654321\n",
      "10987654321\n",
      "10987654321\n",
      "10987654321\n",
      "10987654321\n"
     ]
    }
   ],
   "source": [
    "for i in range(1,11):\n",
    "    for j in range(1,11):\n",
    "        print(11-j,end=\"\")\n",
    "    print()\n",
    "        "
   ]
  },
  {
   "cell_type": "code",
   "execution_count": 75,
   "id": "16e291f8-0f87-4253-9dc0-c2d586b612fd",
   "metadata": {},
   "outputs": [
    {
     "name": "stdout",
     "output_type": "stream",
     "text": [
      "JJJJJJJJJJ\n",
      "IIIIIIIIII\n",
      "HHHHHHHHHH\n",
      "GGGGGGGGGG\n",
      "FFFFFFFFFF\n",
      "EEEEEEEEEE\n",
      "DDDDDDDDDD\n",
      "CCCCCCCCCC\n",
      "BBBBBBBBBB\n",
      "AAAAAAAAAA\n"
     ]
    }
   ],
   "source": [
    "for i in range(1,11):\n",
    "    for j in range(1,11):\n",
    "        print(chr(64+11-i),end=\"\")\n",
    "    print()"
   ]
  },
  {
   "cell_type": "code",
   "execution_count": 77,
   "id": "185e55c5-1473-46d4-a0d8-aedaa7610a7f",
   "metadata": {},
   "outputs": [
    {
     "name": "stdout",
     "output_type": "stream",
     "text": [
      "JIHGFEDCBA\n",
      "JIHGFEDCBA\n",
      "JIHGFEDCBA\n",
      "JIHGFEDCBA\n",
      "JIHGFEDCBA\n",
      "JIHGFEDCBA\n",
      "JIHGFEDCBA\n",
      "JIHGFEDCBA\n",
      "JIHGFEDCBA\n",
      "JIHGFEDCBA\n"
     ]
    }
   ],
   "source": [
    "for i in range(1,11):\n",
    "    for j in range(1,11):\n",
    "        print(chr(64+11-j),end=\"\")\n",
    "    print()"
   ]
  },
  {
   "cell_type": "code",
   "execution_count": 79,
   "id": "c7159946-e4f8-4ca7-856a-ab1c0fbe8d38",
   "metadata": {},
   "outputs": [
    {
     "name": "stdout",
     "output_type": "stream",
     "text": [
      "*\n",
      "**\n",
      "***\n",
      "****\n",
      "*****\n",
      "******\n",
      "*******\n",
      "********\n",
      "*********\n",
      "**********\n"
     ]
    }
   ],
   "source": [
    "\n",
    "for i in range(1,11):\n",
    "    print(\"*\"*i)"
   ]
  },
  {
   "cell_type": "code",
   "execution_count": 91,
   "id": "92b495be-96ea-48f8-9e33-68a054c4ea99",
   "metadata": {},
   "outputs": [
    {
     "name": "stdout",
     "output_type": "stream",
     "text": [
      "1\n",
      "22\n",
      "333\n",
      "4444\n",
      "55555\n",
      "666666\n",
      "7777777\n",
      "88888888\n",
      "999999999\n",
      "10101010101010101010\n"
     ]
    }
   ],
   "source": [
    "for i in range(1,11):\n",
    "    for j in range(i):\n",
    "        print(i,end=\"\")\n",
    "    print()\n",
    "   "
   ]
  },
  {
   "cell_type": "code",
   "execution_count": 122,
   "id": "7dd9d2a5-4869-4d8a-b2cd-f0feb4047ce6",
   "metadata": {},
   "outputs": [
    {
     "name": "stdout",
     "output_type": "stream",
     "text": [
      "1\n",
      "12\n",
      "123\n",
      "1234\n",
      "12345\n",
      "123456\n",
      "1234567\n",
      "12345678\n",
      "123456789\n",
      "12345678910\n"
     ]
    }
   ],
   "source": [
    "for i in range(1,11):\n",
    "    for j in range(1,i+1):\n",
    "        print(j,end=\"\")\n",
    "    print()\n",
    "   "
   ]
  },
  {
   "cell_type": "code",
   "execution_count": 124,
   "id": "897d46ad-c4fa-4682-a876-f903d6f98fa7",
   "metadata": {},
   "outputs": [
    {
     "name": "stdout",
     "output_type": "stream",
     "text": [
      "A\n",
      "AB\n",
      "ABC\n",
      "ABCD\n",
      "ABCDE\n",
      "ABCDEF\n",
      "ABCDEFG\n",
      "ABCDEFGH\n",
      "ABCDEFGHI\n",
      "ABCDEFGHIJ\n"
     ]
    }
   ],
   "source": [
    "for i in range(1,11):\n",
    "    for j in range(1,i+1):\n",
    "        print(chr(64+j),end=\"\")\n",
    "    print()"
   ]
  },
  {
   "cell_type": "code",
   "execution_count": 126,
   "id": "23646c53-94d9-42ab-b315-aadb9a32dbd8",
   "metadata": {},
   "outputs": [
    {
     "name": "stdout",
     "output_type": "stream",
     "text": [
      "A\n",
      "BB\n",
      "CCC\n",
      "DDDD\n",
      "EEEEE\n",
      "FFFFFF\n",
      "GGGGGGG\n",
      "HHHHHHHH\n",
      "IIIIIIIII\n",
      "JJJJJJJJJJ\n"
     ]
    }
   ],
   "source": [
    "for i in range(1,11):\n",
    "    for j in range(1,i+1):\n",
    "        print(chr(64+i),end=\"\")\n",
    "    print()"
   ]
  },
  {
   "cell_type": "code",
   "execution_count": 130,
   "id": "9c862ed5-cca4-4556-90e8-207b4578dd81",
   "metadata": {},
   "outputs": [
    {
     "name": "stdout",
     "output_type": "stream",
     "text": [
      "**********\n",
      "*********\n",
      "********\n",
      "*******\n",
      "******\n",
      "*****\n",
      "****\n",
      "***\n",
      "**\n",
      "*\n"
     ]
    }
   ],
   "source": [
    "for i in range(1,11):\n",
    "   \n",
    "        print((11-i)*\"*\")\n",
    "   "
   ]
  },
  {
   "cell_type": "code",
   "execution_count": 159,
   "id": "2e4ab356-cb10-47c4-8a4d-fda0a4bbef22",
   "metadata": {},
   "outputs": [
    {
     "name": "stdout",
     "output_type": "stream",
     "text": [
      "111111111\n",
      "22222222\n",
      "3333333\n",
      "444444\n",
      "55555\n",
      "6666\n",
      "777\n",
      "88\n",
      "9\n",
      "\n"
     ]
    }
   ],
   "source": [
    "for i in range(1,11):\n",
    "    for j in range(1,11-i):\n",
    "        print(i,end=\"\")\n",
    "    print()  "
   ]
  },
  {
   "cell_type": "code",
   "execution_count": 161,
   "id": "0398afee-6da1-4b68-8092-0ac8c4ba78ee",
   "metadata": {},
   "outputs": [
    {
     "name": "stdout",
     "output_type": "stream",
     "text": [
      "123456789\n",
      "12345678\n",
      "1234567\n",
      "123456\n",
      "12345\n",
      "1234\n",
      "123\n",
      "12\n",
      "1\n",
      "\n"
     ]
    }
   ],
   "source": [
    "for i in range(1,11):\n",
    "    for j in range(1,11-i):\n",
    "        print(j,end=\"\")\n",
    "    print()"
   ]
  },
  {
   "cell_type": "code",
   "execution_count": 163,
   "id": "db84dd30-8029-4153-bc41-7b4d90e0573d",
   "metadata": {},
   "outputs": [
    {
     "name": "stdout",
     "output_type": "stream",
     "text": [
      "AAAAAAAAA\n",
      "BBBBBBBB\n",
      "CCCCCCC\n",
      "DDDDDD\n",
      "EEEEE\n",
      "FFFF\n",
      "GGG\n",
      "HH\n",
      "I\n",
      "\n"
     ]
    }
   ],
   "source": [
    "for i in range(1,11):\n",
    "    for j in range(1,11-i):\n",
    "        print(chr(64+i),end=\"\")\n",
    "    print()  "
   ]
  },
  {
   "cell_type": "code",
   "execution_count": 165,
   "id": "1cf09a5a-94d8-4a55-a319-e37283eccb6a",
   "metadata": {},
   "outputs": [
    {
     "name": "stdout",
     "output_type": "stream",
     "text": [
      "ABCDEFGHI\n",
      "ABCDEFGH\n",
      "ABCDEFG\n",
      "ABCDEF\n",
      "ABCDE\n",
      "ABCD\n",
      "ABC\n",
      "AB\n",
      "A\n",
      "\n"
     ]
    }
   ],
   "source": [
    "for i in range(1,11):\n",
    "    for j in range(1,11-i):\n",
    "        print(chr(64+j),end=\"\")\n",
    "    print()  "
   ]
  },
  {
   "cell_type": "code",
   "execution_count": 167,
   "id": "d1f60669-cbfe-4aa1-a014-53713f7d173e",
   "metadata": {},
   "outputs": [
    {
     "name": "stdout",
     "output_type": "stream",
     "text": [
      "101010101010101010\n",
      "99999999\n",
      "8888888\n",
      "777777\n",
      "66666\n",
      "5555\n",
      "444\n",
      "33\n",
      "2\n",
      "\n"
     ]
    }
   ],
   "source": [
    "for i in range(1,11):\n",
    "    for j in range(1,11-i):\n",
    "        print((11-i),end=\"\")\n",
    "    print()  "
   ]
  },
  {
   "cell_type": "code",
   "execution_count": 169,
   "id": "6306f07e-e542-4e14-9081-4901b85f4ce2",
   "metadata": {},
   "outputs": [
    {
     "name": "stdout",
     "output_type": "stream",
     "text": [
      "1098765432\n",
      "109876543\n",
      "10987654\n",
      "1098765\n",
      "109876\n",
      "10987\n",
      "1098\n",
      "109\n",
      "10\n",
      "\n"
     ]
    }
   ],
   "source": [
    "for i in range(1,11):\n",
    "    for j in range(1,11-i):\n",
    "        print((11-j),end=\"\")\n",
    "    print()  "
   ]
  },
  {
   "cell_type": "code",
   "execution_count": 173,
   "id": "891729fa-59c5-48d0-b381-376b7f38b779",
   "metadata": {},
   "outputs": [
    {
     "name": "stdout",
     "output_type": "stream",
     "text": [
      "JIHGFEDCB\n",
      "JIHGFEDC\n",
      "JIHGFED\n",
      "JIHGFE\n",
      "JIHGF\n",
      "JIHG\n",
      "JIH\n",
      "JI\n",
      "J\n",
      "\n"
     ]
    }
   ],
   "source": [
    "for i in range(1,11):\n",
    "    for j in range(1,11-i):\n",
    "        print(chr(64+11-j),end=\"\")\n",
    "    print()"
   ]
  },
  {
   "cell_type": "code",
   "execution_count": 177,
   "id": "50a8068d-80f3-4d14-be71-30b153444ad4",
   "metadata": {},
   "outputs": [
    {
     "name": "stdout",
     "output_type": "stream",
     "text": [
      "JJJJJJJJJ\n",
      "IIIIIIII\n",
      "HHHHHHH\n",
      "GGGGGG\n",
      "FFFFF\n",
      "EEEE\n",
      "DDD\n",
      "CC\n",
      "B\n",
      "\n"
     ]
    }
   ],
   "source": [
    "for i in range(1,11):\n",
    "    for j in range(1,11-i):\n",
    "        print(chr(64+11-i),end=\"\")\n",
    "    print()"
   ]
  },
  {
   "cell_type": "code",
   "execution_count": 255,
   "id": "06073f5a-9194-4f62-b9ca-6c5358bc9508",
   "metadata": {},
   "outputs": [
    {
     "name": "stdout",
     "output_type": "stream",
     "text": [
      "          *\n",
      "         * *\n",
      "        * * *\n",
      "       * * * *\n",
      "      * * * * *\n",
      "     * * * * * *\n",
      "    * * * * * * *\n",
      "   * * * * * * * *\n",
      "  * * * * * * * * *\n",
      " * * * * * * * * * *\n"
     ]
    }
   ],
   "source": [
    "for i in range(1,11):\n",
    "    print(\" \"*(10-i),end='')\n",
    "    for i in range(1,i+1):\n",
    "        print(\" \"+\"*\",end='')\n",
    "    print()"
   ]
  },
  {
   "cell_type": "code",
   "execution_count": 269,
   "id": "80fc23ad-d2e2-4851-bae2-c1c777ca9f35",
   "metadata": {},
   "outputs": [
    {
     "name": "stdout",
     "output_type": "stream",
     "text": [
      "           1\n",
      "          2  2\n",
      "         3  3  3\n",
      "        4  4  4  4\n",
      "       5  5  5  5  5\n",
      "      6  6  6  6  6  6\n",
      "     7  7  7  7  7  7  7\n",
      "    8  8  8  8  8  8  8  8\n",
      "   9  9  9  9  9  9  9  9  9\n",
      "  10  10  10  10  10  10  10  10  10  10\n"
     ]
    }
   ],
   "source": [
    "for i in range(1,11):\n",
    "    print(\" \"*(10-i),end='')\n",
    "    for j in range(1,i+1):\n",
    "        print(\" \",i,end='')\n",
    "    print()\n"
   ]
  },
  {
   "cell_type": "code",
   "execution_count": 280,
   "id": "b797db8d-56de-4a64-ab30-c3aa03ade09b",
   "metadata": {},
   "outputs": [
    {
     "name": "stdout",
     "output_type": "stream",
     "text": [
      "           1\n",
      "          1  2\n",
      "         1  2  3\n",
      "        1  2  3  4\n",
      "       1  2  3  4  5\n",
      "      1  2  3  4  5  6\n",
      "     1  2  3  4  5  6  7\n",
      "    1  2  3  4  5  6  7  8\n",
      "   1  2  3  4  5  6  7  8  9\n",
      "  1  2  3  4  5  6  7  8  9  10\n"
     ]
    }
   ],
   "source": [
    "for i in range(1,11):\n",
    "    print(\" \"*(10-i),end='')\n",
    "    for j in range(1,i+1):\n",
    "        print(\" \",j,end='')\n",
    "    print()"
   ]
  },
  {
   "cell_type": "code",
   "execution_count": 271,
   "id": "25b584d1-e2a3-4c86-a17c-b23bf5c9805f",
   "metadata": {},
   "outputs": [
    {
     "name": "stdout",
     "output_type": "stream",
     "text": [
      "           10\n",
      "          9  9\n",
      "         8  8  8\n",
      "        7  7  7  7\n",
      "       6  6  6  6  6\n",
      "      5  5  5  5  5  5\n",
      "     4  4  4  4  4  4  4\n",
      "    3  3  3  3  3  3  3  3\n",
      "   2  2  2  2  2  2  2  2  2\n",
      "  1  1  1  1  1  1  1  1  1  1\n"
     ]
    }
   ],
   "source": [
    "for i in range(1,11):\n",
    "    print(\" \"*(10-i),end='')\n",
    "    for j in range(1,i+1):\n",
    "        print(\" \",11-i,end='')\n",
    "    print()"
   ]
  },
  {
   "cell_type": "code",
   "execution_count": 282,
   "id": "f54fbbd7-e4e8-482e-bf3d-00c01248d818",
   "metadata": {},
   "outputs": [
    {
     "name": "stdout",
     "output_type": "stream",
     "text": [
      "           10\n",
      "          10  9\n",
      "         10  9  8\n",
      "        10  9  8  7\n",
      "       10  9  8  7  6\n",
      "      10  9  8  7  6  5\n",
      "     10  9  8  7  6  5  4\n",
      "    10  9  8  7  6  5  4  3\n",
      "   10  9  8  7  6  5  4  3  2\n",
      "  10  9  8  7  6  5  4  3  2  1\n"
     ]
    }
   ],
   "source": [
    "for i in range(1,11):\n",
    "    print(\" \"*(10-i),end='')\n",
    "    for j in range(1,i+1):\n",
    "        print(\" \",11-j,end='')\n",
    "    print()"
   ]
  },
  {
   "cell_type": "code",
   "execution_count": 284,
   "id": "fccba13a-438a-42f9-ae74-ca55b2e53284",
   "metadata": {},
   "outputs": [
    {
     "name": "stdout",
     "output_type": "stream",
     "text": [
      "           A\n",
      "          B  B\n",
      "         C  C  C\n",
      "        D  D  D  D\n",
      "       E  E  E  E  E\n",
      "      F  F  F  F  F  F\n",
      "     G  G  G  G  G  G  G\n",
      "    H  H  H  H  H  H  H  H\n",
      "   I  I  I  I  I  I  I  I  I\n",
      "  J  J  J  J  J  J  J  J  J  J\n"
     ]
    }
   ],
   "source": [
    "for i in range(1,11):\n",
    "    print(\" \"*(10-i),end='')\n",
    "    for j in range(1,i+1):\n",
    "        print(\" \",chr(64+i),end='')\n",
    "    print()"
   ]
  },
  {
   "cell_type": "code",
   "execution_count": 286,
   "id": "4f27f148-48f4-4139-ba9f-0331a68626ef",
   "metadata": {},
   "outputs": [
    {
     "name": "stdout",
     "output_type": "stream",
     "text": [
      "           A\n",
      "          A  B\n",
      "         A  B  C\n",
      "        A  B  C  D\n",
      "       A  B  C  D  E\n",
      "      A  B  C  D  E  F\n",
      "     A  B  C  D  E  F  G\n",
      "    A  B  C  D  E  F  G  H\n",
      "   A  B  C  D  E  F  G  H  I\n",
      "  A  B  C  D  E  F  G  H  I  J\n"
     ]
    }
   ],
   "source": [
    "for i in range(1,11):\n",
    "    print(\" \"*(10-i),end='')\n",
    "    for j in range(1,i+1):\n",
    "        print(\" \",chr(64+j),end='')\n",
    "    print()"
   ]
  },
  {
   "cell_type": "code",
   "execution_count": 288,
   "id": "cd8b425f-9416-4599-b91d-4737f721d400",
   "metadata": {},
   "outputs": [
    {
     "name": "stdout",
     "output_type": "stream",
     "text": [
      "           J\n",
      "          I  I\n",
      "         H  H  H\n",
      "        G  G  G  G\n",
      "       F  F  F  F  F\n",
      "      E  E  E  E  E  E\n",
      "     D  D  D  D  D  D  D\n",
      "    C  C  C  C  C  C  C  C\n",
      "   B  B  B  B  B  B  B  B  B\n",
      "  A  A  A  A  A  A  A  A  A  A\n"
     ]
    }
   ],
   "source": [
    "for i in range(1,11):\n",
    "    print(\" \"*(10-i),end='')\n",
    "    for j in range(1,i+1):\n",
    "        print(\" \",chr(64+11-i),end='')\n",
    "    print()"
   ]
  },
  {
   "cell_type": "code",
   "execution_count": 290,
   "id": "7fb085d3-be65-491b-8acb-4d7195d5fdae",
   "metadata": {},
   "outputs": [
    {
     "name": "stdout",
     "output_type": "stream",
     "text": [
      "           J\n",
      "          J  I\n",
      "         J  I  H\n",
      "        J  I  H  G\n",
      "       J  I  H  G  F\n",
      "      J  I  H  G  F  E\n",
      "     J  I  H  G  F  E  D\n",
      "    J  I  H  G  F  E  D  C\n",
      "   J  I  H  G  F  E  D  C  B\n",
      "  J  I  H  G  F  E  D  C  B  A\n"
     ]
    }
   ],
   "source": [
    "for i in range(1,11):\n",
    "    print(\" \"*(10-i),end='')\n",
    "    for j in range(1,i+1):\n",
    "        print(\" \",chr(64+11-j),end='')\n",
    "    print()"
   ]
  },
  {
   "cell_type": "code",
   "execution_count": 326,
   "id": "f018c430-fe16-4cf1-8c84-693422380d2f",
   "metadata": {},
   "outputs": [
    {
     "name": "stdout",
     "output_type": "stream",
     "text": [
      " *********\n",
      "  ********\n",
      "   *******\n",
      "    ******\n",
      "     *****\n",
      "      ****\n",
      "       ***\n",
      "        **\n",
      "         *\n",
      "          \n"
     ]
    }
   ],
   "source": [
    "for i in range(1,11):\n",
    "    print(\" \"*i,end='')\n",
    "    for j in range(1,11-i):\n",
    "        print(\"*\",end='')\n",
    "    print()    "
   ]
  },
  {
   "cell_type": "code",
   "execution_count": 338,
   "id": "0f964e1b-1d40-4c7a-8239-ccd7a1dba259",
   "metadata": {},
   "outputs": [
    {
     "name": "stdout",
     "output_type": "stream",
     "text": [
      "   5  5  5  5  5\n",
      "    4  4  4  4\n",
      "     3  3  3\n",
      "      2  2\n",
      "       1\n"
     ]
    }
   ],
   "source": [
    "for i in range(1,6):\n",
    "    print(\" \"*i,end='')\n",
    "    for j in range(6-i):\n",
    "        print(\" \",6-i,end='')\n",
    "    print()    "
   ]
  },
  {
   "cell_type": "code",
   "execution_count": 340,
   "id": "d7012459-d30f-448d-a2ed-0562896aeef4",
   "metadata": {},
   "outputs": [
    {
     "name": "stdout",
     "output_type": "stream",
     "text": [
      "   1  1  1  1  1\n",
      "    2  2  2  2\n",
      "     3  3  3\n",
      "      4  4\n",
      "       5\n"
     ]
    }
   ],
   "source": [
    "for i in range(1,6):\n",
    "    print(\" \"*i,end='')\n",
    "    for j in range(6-i):\n",
    "        print(\" \",i,end='')\n",
    "    print()  "
   ]
  },
  {
   "cell_type": "code",
   "execution_count": 344,
   "id": "d3364755-898f-41e9-aa65-5fa3c2a50f50",
   "metadata": {},
   "outputs": [
    {
     "name": "stdout",
     "output_type": "stream",
     "text": [
      "   1  2  3  4  5\n",
      "    1  2  3  4\n",
      "     1  2  3\n",
      "      1  2\n",
      "       1\n"
     ]
    }
   ],
   "source": [
    "for i in range(1,6):\n",
    "    print(\" \"*i,end='')\n",
    "    for j in range(6-i):\n",
    "        print(\" \",j+1,end='')\n",
    "    print()  "
   ]
  },
  {
   "cell_type": "code",
   "execution_count": 352,
   "id": "38dc364d-a9d1-4cf1-87a5-d0969f1687c3",
   "metadata": {},
   "outputs": [
    {
     "name": "stdout",
     "output_type": "stream",
     "text": [
      "   5  4  3  2  1\n",
      "    5  4  3  2\n",
      "     5  4  3\n",
      "      5  4\n",
      "       5\n"
     ]
    }
   ],
   "source": [
    "for i in range(1,6):\n",
    "    print(\" \"*i,end='')\n",
    "    for j in range(6-i):\n",
    "        print(\" \",6-j-1,end='')\n",
    "    print()  "
   ]
  },
  {
   "cell_type": "code",
   "execution_count": 356,
   "id": "55be0fa9-e0dc-4ef0-a140-00b66376f2e1",
   "metadata": {},
   "outputs": [
    {
     "name": "stdout",
     "output_type": "stream",
     "text": [
      "   E  E  E  E  E\n",
      "    D  D  D  D\n",
      "     C  C  C\n",
      "      B  B\n",
      "       A\n"
     ]
    }
   ],
   "source": [
    "for i in range(1,6):\n",
    "    print(\" \"*i,end='')\n",
    "    for j in range(6-i):\n",
    "        print(\" \",chr(64+6-i),end='')\n",
    "    print()  "
   ]
  },
  {
   "cell_type": "code",
   "execution_count": 358,
   "id": "191d6a7b-117f-4a81-b0db-e835ff6e6903",
   "metadata": {},
   "outputs": [
    {
     "name": "stdout",
     "output_type": "stream",
     "text": [
      "   A  A  A  A  A\n",
      "    B  B  B  B\n",
      "     C  C  C\n",
      "      D  D\n",
      "       E\n"
     ]
    }
   ],
   "source": [
    "for i in range(1,6):\n",
    "    print(\" \"*i,end='')\n",
    "    for j in range(6-i):\n",
    "        print(\" \",chr(64+i),end='')\n",
    "    print()  "
   ]
  },
  {
   "cell_type": "code",
   "execution_count": 362,
   "id": "be7e4c86-dc42-4e2c-8d82-d59260185ce1",
   "metadata": {},
   "outputs": [
    {
     "name": "stdout",
     "output_type": "stream",
     "text": [
      "   E  D  C  B  A\n",
      "    E  D  C  B\n",
      "     E  D  C\n",
      "      E  D\n",
      "       E\n"
     ]
    }
   ],
   "source": [
    "for i in range(1,6):\n",
    "    print(\" \"*i,end='')\n",
    "    for j in range(6-i):\n",
    "        print(\" \",chr(64+6-j-1),end='')\n",
    "    print()  "
   ]
  },
  {
   "cell_type": "code",
   "execution_count": 366,
   "id": "a1a9945b-8a2e-4850-9705-7e8602dcf3e6",
   "metadata": {},
   "outputs": [
    {
     "name": "stdout",
     "output_type": "stream",
     "text": [
      "   A  B  C  D  E\n",
      "    A  B  C  D\n",
      "     A  B  C\n",
      "      A  B\n",
      "       A\n"
     ]
    }
   ],
   "source": [
    "for i in range(1,6):\n",
    "    print(\" \"*i,end='')\n",
    "    for j in range(6-i):\n",
    "        print(\" \",chr(64+j+1),end='')\n",
    "    print()  "
   ]
  },
  {
   "cell_type": "code",
   "execution_count": null,
   "id": "505d2c60-fdc5-4edd-9ef2-c7580f690bbe",
   "metadata": {},
   "outputs": [],
   "source": []
  }
 ],
 "metadata": {
  "kernelspec": {
   "display_name": "Python 3 (ipykernel)",
   "language": "python",
   "name": "python3"
  },
  "language_info": {
   "codemirror_mode": {
    "name": "ipython",
    "version": 3
   },
   "file_extension": ".py",
   "mimetype": "text/x-python",
   "name": "python",
   "nbconvert_exporter": "python",
   "pygments_lexer": "ipython3",
   "version": "3.12.7"
  }
 },
 "nbformat": 4,
 "nbformat_minor": 5
}
